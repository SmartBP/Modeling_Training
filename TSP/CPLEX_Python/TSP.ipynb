{
 "cells": [
  {
   "cell_type": "markdown",
   "metadata": {},
   "source": [
    "# Travelling Salesman Problem"
   ]
  },
  {
   "cell_type": "markdown",
   "metadata": {},
   "source": [
    "#### Importación de libraría necesarias para la creación del problema"
   ]
  },
  {
   "cell_type": "code",
   "execution_count": 12,
   "metadata": {},
   "outputs": [],
   "source": [
    "#Import libraries\n",
    "import pandas\n",
    "import itertools \n",
    "import numpy\n",
    "import random\n",
    "import networkx\n",
    "\n",
    "#Import graphing libraries\n",
    "%matplotlib inline\n",
    "\n",
    "import matplotlib as mpl\n",
    "import matplotlib.pyplot as plt"
   ]
  },
  {
   "attachments": {},
   "cell_type": "markdown",
   "metadata": {},
   "source": [
    "#### Creación del modelo con DOcplex\n",
    "Parámetros\n",
    "\\begin{equation}\n",
    "c_ij = \\text{distance from i to j}\n",
    "\\end{equation}\n",
    "Variables de decisión\n",
    "\\begin{equation}\n",
    "x_{ij} = \\begin{cases} 0, & \\text{if the path from i to j is selected}  \\\\1, & \\text{otherwise}\\end{cases} \\text{   }\\forall i = 1,..,n \\text{ , } j = 1,..,n\\end{equation}\n",
    "\n",
    "Función Objetivo\n",
    "\\begin{equation}\n",
    "\\text{Min} \\sum\\limits_{i=1}^n \\sum\\limits_{i\\neq j,j=1}^n c_{ij}x_{ij}\n",
    "\n",
    "\\end{equation}\n",
    "\n",
    "Restricciones\n",
    "\\begin{equation}\n",
    "\\sum\\limits_{i=1,i\\neq j}^n x_{ij} = 1,\\forall j = 1..n\n",
    "\\end{equation}\n",
    "\\begin{equation}\n",
    "\\sum\\limits_{j=1,j\\neq i}^n x_{ij} = 1,\\forall i = 1..n\n",
    "\\end{equation}\n",
    "\\begin{equation}\n",
    "\\sum\\limits_{i\\in S,j\\neq i,j\\in S} x_{ij} \\leq \\lvert S \\rvert - 1,\\text{   } \\forall S\\subset {1,..,n},2\\leq \\lvert S \\rvert \\leq n-2\n",
    "\\end{equation}\n"
   ]
  },
  {
   "cell_type": "code",
   "execution_count": null,
   "metadata": {},
   "outputs": [],
   "source": [
    "from docplex.mp.model import Model\n",
    "\n",
    "#create the base model\n",
    "def tsp(data, max_length):\n",
    "    m = Model(name='tsp',log_output=False)\n",
    "    m.parameters.threads.set(1)\n",
    "    \n",
    "    all_locations = set(data.point_from.unique()).union(set(data.point_to.unique()))\n",
    "    \n",
    "    ####VARIABLES####\n",
    "    data['travel_on'] = m.binary_var_list([(row.point_from, row.point_to) for row in data.itertuples()], name = 'travel_on')\n",
    "    \n",
    "    ####OBJECTIVE####\n",
    "    distance_traveled = m.sum([row.travel_on * row.distance for row in data.itertuples()]) \n",
    "    m.add_kpi(distance_traveled, \"distance\")\n",
    "    \n",
    "    m.minimize(distance_traveled)\n",
    "    ####CONSTRAINTS####\n",
    "    #force each location to only have one outgoing edge\n",
    "    for start_point in all_locations:\n",
    "        m.add_constraint(m.sum([row.travel_on for row in data[data.point_from == start_point].itertuples()]) == 1, \\\n",
    "            'outgoing_edge_%s' % start_point)\n",
    "\n",
    "    #force each location to only have one incoming edge\n",
    "    for end_point in all_locations:\n",
    "        m.add_constraint(m.sum([row.travel_on for row in data[data.point_to == end_point].itertuples()]) == 1, \\\n",
    "            'incoming_edge_%s' % end_point)\n",
    "\n",
    "    return m\n",
    "\n",
    "#update the parameters, solve the model, and return the results\n",
    "def update_and_solve(m, data, mipgap = 0.0001):\n",
    "    m.parameters.mip.tolerances.mipgap.set(mipgap)\n",
    "    m.parameters.timelimit = 600\n",
    "    m.solve()\n",
    "    data['travel_on_val'] = [var.solution_value for var in data.travel_on.values]\n",
    "\n",
    "def add_cycle_breaking_constraints(m,subtour_id, data):\n",
    "    g = networkx.DiGraph()\n",
    "    g.add_edges_from([(row.point_from,row.point_to) for row in data[data.travel_on_val > 0.5].itertuples()])\n",
    "    num_cycles = 0\n",
    "    longest_cycle = None\n",
    "    subtours = {}\n",
    "    for cycle in networkx.simple_cycles(g):\n",
    "        cycleLength = len(cycle)\n",
    "        num_cycles += 1\n",
    "        subtours[subtour_id] = cycle\n",
    "        subtour_id += 1\n",
    "    if num_cycles == 1: #finished\n",
    "        return m.kpis_as_dict()['distance'], cycle, subtour_id\n",
    "    else:\n",
    "        for new_subtour in subtours.keys():\n",
    "            cycle = subtours[new_subtour]\n",
    "            idxs = data[(data.point_from.isin(cycle)) & (data.point_to.isin(cycle)) & (data.travel_on_val > 0.5)].index.values\n",
    "            m.add_constraint(m.sum(data.loc[idxs,'travel_on'].values) <= len(cycle) - 1,\\\n",
    "                'subtour_elimintaion_%d' % subtour_id)\n",
    "        return m.kpis_as_dict()['distance'], [], subtour_id\n",
    "    \n",
    "def distance_tsp(data, max_length):\n",
    "    m = tsp(data, max_length)\n",
    "    mipgap = 0.1\n",
    "    subtour_id = 0\n",
    "    iteracion = 0\n",
    "    max_iter = 500\n",
    "    estado_iter = ''\n",
    "    update_and_solve(m, data, mipgap = mipgap)\n",
    "    distance, tour, subtour_id = add_cycle_breaking_constraints(m,subtour_id, data)\n",
    "    if len(tour) == max_length:\n",
    "        mipgap = mipgap - 0.01\n",
    "    while (len(tour) < max_length or mipgap > 0.009) and iteracion < max_iter:\n",
    "        update_and_solve(m, data, mipgap = mipgap)\n",
    "        distance, tour, subtour_id = add_cycle_breaking_constraints(m,subtour_id, data)\n",
    "        if len(tour) == max_length:\n",
    "            mipgap = 0\n",
    "        iteracion = iteracion + 1\n",
    "    if iteracion == max_iter:\n",
    "        estado_iter = 'SIN SOLUCION'\n",
    "    else:\n",
    "        estado_iter='OPTIMO'\n",
    "    return distance, tour, estado_iter"
   ]
  },
  {
   "cell_type": "markdown",
   "metadata": {},
   "source": [
    "#### Creación de coordenadas aleatorias\n",
    "Se definen p puntos con coordenadas aleatorias. Estos puntos serán los lugares a visitar"
   ]
  },
  {
   "cell_type": "code",
   "execution_count": 13,
   "metadata": {},
   "outputs": [],
   "source": [
    "p = 20\n",
    "df = pandas.DataFrame({'X':[random.randrange(100) for i in range(p)],'Y':[random.randrange(100) for i in range(p)]})"
   ]
  },
  {
   "cell_type": "code",
   "execution_count": 14,
   "metadata": {},
   "outputs": [
    {
     "data": {
      "text/plain": [
       "<matplotlib.axes._subplots.AxesSubplot at 0x224418ada20>"
      ]
     },
     "execution_count": 14,
     "metadata": {},
     "output_type": "execute_result"
    },
    {
     "data": {
      "image/png": "[encoded data removed]",
      "text/plain": [
       "<Figure size 432x432 with 1 Axes>"
      ]
     },
     "metadata": {
      "needs_background": "light"
     },
     "output_type": "display_data"
    }
   ],
   "source": [
    "df.plot(kind='scatter', x='X', y='Y', figsize=(6, 6), color='darkblue')"
   ]
  },
  {
   "cell_type": "markdown",
   "metadata": {},
   "source": [
    "Se definen todas las posibles combinaciones entre dos puntos"
   ]
  },
  {
   "cell_type": "code",
   "execution_count": 15,
   "metadata": {},
   "outputs": [],
   "source": [
    "perm = [x for x in itertools.permutations(range(p), 2)]"
   ]
  },
  {
   "cell_type": "markdown",
   "metadata": {},
   "source": [
    "Se definen las distancias para cada par de puntos"
   ]
  },
  {
   "cell_type": "code",
   "execution_count": 16,
   "metadata": {},
   "outputs": [
    {
     "data": {
      "text/html": [
       "<div>\n",
       "<style scoped>\n",
       "    .dataframe tbody tr th:only-of-type {\n",
       "        vertical-align: middle;\n",
       "    }\n",
       "\n",
       "    .dataframe tbody tr th {\n",
       "        vertical-align: top;\n",
       "    }\n",
       "\n",
       "    .dataframe thead th {\n",
       "        text-align: right;\n",
       "    }\n",
       "</style>\n",
       "<table border=\"1\" class=\"dataframe\">\n",
       "  <thead>\n",
       "    <tr style=\"text-align: right;\">\n",
       "      <th></th>\n",
       "      <th>point_from</th>\n",
       "      <th>point_to</th>\n",
       "      <th>distance</th>\n",
       "    </tr>\n",
       "  </thead>\n",
       "  <tbody>\n",
       "    <tr>\n",
       "      <th>0</th>\n",
       "      <td>0.0</td>\n",
       "      <td>1.0</td>\n",
       "      <td>49.20</td>\n",
       "    </tr>\n",
       "    <tr>\n",
       "      <th>1</th>\n",
       "      <td>0.0</td>\n",
       "      <td>2.0</td>\n",
       "      <td>14.42</td>\n",
       "    </tr>\n",
       "    <tr>\n",
       "      <th>2</th>\n",
       "      <td>0.0</td>\n",
       "      <td>3.0</td>\n",
       "      <td>35.34</td>\n",
       "    </tr>\n",
       "    <tr>\n",
       "      <th>3</th>\n",
       "      <td>0.0</td>\n",
       "      <td>4.0</td>\n",
       "      <td>26.68</td>\n",
       "    </tr>\n",
       "    <tr>\n",
       "      <th>4</th>\n",
       "      <td>0.0</td>\n",
       "      <td>5.0</td>\n",
       "      <td>3.16</td>\n",
       "    </tr>\n",
       "  </tbody>\n",
       "</table>\n",
       "</div>"
      ],
      "text/plain": [
       "   point_from  point_to  distance\n",
       "0         0.0       1.0     49.20\n",
       "1         0.0       2.0     14.42\n",
       "2         0.0       3.0     35.34\n",
       "3         0.0       4.0     26.68\n",
       "4         0.0       5.0      3.16"
      ]
     },
     "execution_count": 16,
     "metadata": {},
     "output_type": "execute_result"
    }
   ],
   "source": [
    "data = pandas.DataFrame(columns=['point_from','point_to','distance'])\n",
    "\n",
    "for i in range(len(perm)):\n",
    "    p1 = perm[i][0]\n",
    "    p2 = perm[i][1]\n",
    "    data.loc[i] = p1 , p2 , \\\n",
    "    round(numpy.lib.scimath.sqrt((df.loc[p1,'X'] - df.loc[p2,'X'])**2+(df.loc[p1,'Y'] - df.loc[p2,'Y'])**2),2)\n",
    "\n",
    "data.head(5)"
   ]
  },
  {
   "cell_type": "markdown",
   "metadata": {},
   "source": [
    "#### Ejecución de modelo - DOcplex\n",
    "Por medio del modelo definido en tsp_model, se obtiene la ruta óptima para los puntos definidos"
   ]
  },
  {
   "cell_type": "code",
   "execution_count": 17,
   "metadata": {},
   "outputs": [],
   "source": [
    "max_length = len(set(data.point_from.unique()).union(set(data.point_to.unique())))\n",
    "distance, tour, estado = distance_tsp(data, max_length)"
   ]
  },
  {
   "cell_type": "markdown",
   "metadata": {},
   "source": [
    "#### Solución de modelo - DOcplex\n",
    "La solución del modelo nos retornará la distancia recorrida, el orden de recorrido de los puntos y el estado del modelo (óptimo o sin solución óptima)"
   ]
  },
  {
   "cell_type": "code",
   "execution_count": 18,
   "metadata": {},
   "outputs": [
    {
     "data": {
      "text/plain": [
       "362.94999999999993"
      ]
     },
     "execution_count": 18,
     "metadata": {},
     "output_type": "execute_result"
    }
   ],
   "source": [
    "distance"
   ]
  },
  {
   "cell_type": "code",
   "execution_count": 19,
   "metadata": {},
   "outputs": [
    {
     "data": {
      "text/plain": [
       "[0.0,\n",
       " 4.0,\n",
       " 12.0,\n",
       " 3.0,\n",
       " 1.0,\n",
       " 7.0,\n",
       " 16.0,\n",
       " 6.0,\n",
       " 10.0,\n",
       " 9.0,\n",
       " 15.0,\n",
       " 13.0,\n",
       " 17.0,\n",
       " 8.0,\n",
       " 14.0,\n",
       " 19.0,\n",
       " 11.0,\n",
       " 18.0,\n",
       " 2.0,\n",
       " 5.0]"
      ]
     },
     "execution_count": 19,
     "metadata": {},
     "output_type": "execute_result"
    }
   ],
   "source": [
    "tour"
   ]
  },
  {
   "cell_type": "code",
   "execution_count": 20,
   "metadata": {},
   "outputs": [
    {
     "data": {
      "text/plain": [
       "'OPTIMO'"
      ]
     },
     "execution_count": 20,
     "metadata": {},
     "output_type": "execute_result"
    }
   ],
   "source": [
    "estado"
   ]
  },
  {
   "cell_type": "markdown",
   "metadata": {},
   "source": [
    "#### Solución gráfica \n",
    "Para evaluar la solución, graficamos las rutas definidas por la soluci´´on del modelo"
   ]
  },
  {
   "cell_type": "code",
   "execution_count": 21,
   "metadata": {},
   "outputs": [],
   "source": [
    "def plot_tsp(df,points, style='bo-'):\n",
    "    \"Plot lines to connect a series of points.\"\n",
    "    plt.plot([df.loc[p,'X'] for p in points], [df.loc[p,'Y'] for p in points], style)\n",
    "    plt.axis('scaled'); plt.axis('off')"
   ]
  },
  {
   "cell_type": "code",
   "execution_count": 22,
   "metadata": {},
   "outputs": [
    {
     "data": {
      "image/png": "[encoded data removed]",
      "text/plain": [
       "<Figure size 432x288 with 1 Axes>"
      ]
     },
     "metadata": {
      "needs_background": "light"
     },
     "output_type": "display_data"
    }
   ],
   "source": [
    "first_point= tour[0]\n",
    "tour.append(first_point)\n",
    "plot_tsp(df,tour)"
   ]
  }
 ],
 "metadata": {
  "kernelspec": {
   "display_name": "Python 3",
   "language": "python",
   "name": "python3"
  },
  "language_info": {
   "codemirror_mode": {
    "name": "ipython",
    "version": 3
   },
   "file_extension": ".py",
   "mimetype": "text/x-python",
   "name": "python",
   "nbconvert_exporter": "python",
   "pygments_lexer": "ipython3",
   "version": "3.6.8"
  }
 },
 "nbformat": 4,
 "nbformat_minor": 2
}