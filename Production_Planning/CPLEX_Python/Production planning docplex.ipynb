{
 "cells": [
  {
   "cell_type": "markdown",
   "metadata": {},
   "source": [
    "# Production Planning Problem\n",
    "\n",
    "## Problem description\n",
    "\n",
    "\n",
    "A company needs to decide their production plan for the next month. They produce four products: A, B, C and D. Each product has a known demand, the production cannot exceed this demand as it would be lost. Moreover, the company has a limited time of 2000 minutes to produce all the products. What should be the production level for each product so that they can maximize their profit.\n",
    "\n",
    "| Product | Demand | Profit | Processing time |\n",
    "|---------|--------|--------|-----------------|\n",
    "|    A    |   50   |   40   |       15        |\n",
    "|    B    |   70   |   20   |       15        |\n",
    "|    C    |  100   |   10   |        5        |\n",
    "|    D    |   20   |   70   |       25        |"
   ]
  },
  {
   "cell_type": "markdown",
   "metadata": {},
   "source": [
    "## Model formulation\n",
    "\n",
    "We would use a Mathematical programming approach to formulate our optimization model. As our production should be determine by units, the decision must be a integer number. In this case, we are working with an Integer Programming problem.\n",
    "\n",
    "### Sets\n",
    "\n",
    "$Products$: set of products\n",
    "\n",
    "### Parameters\n",
    "$demand_p$: demand of product $p \\in Products$\n",
    "\n",
    "$profit_p$: profit per unit of product $p \\in Products$\n",
    "\n",
    "$proTime_p$: processing time per unit of product $p \\in Products$\n",
    "\n",
    "$capacity$: total time capacity available for production\n",
    "\n",
    "### Decision variables\n",
    "\n",
    "$production_p \\in \\mathbb{Z}^+$: production level of product $p \\in Products$\n",
    "\n",
    "### Objective function\n",
    "\n",
    "$$\\max totalProfit=\\sum_{p \\in Products} production_p * profit_p$$\n",
    "\n",
    "### Constraints\n",
    "\n",
    "$$production_p \\leq demand_p   \\forall p \\in Products$$\n",
    "\n",
    "$$\\sum_{p \\in Products} production_p * proTime_p \\leq capacity$$\n"
   ]
  },
  {
   "cell_type": "markdown",
   "metadata": {},
   "source": [
    "## Python implementation\n",
    "\n",
    "We will follow the next steps by using the IBM® Decision Optimization CPLEX® Modeling for Python:\n",
    "1. Import docplex library\n",
    "2. Create a Model instance\n",
    "3. Define sets and parameters\n",
    "4. Define decision variables\n",
    "5. Define constraints\n",
    "6. Define linear expressions\n",
    "7. Define objective function\n",
    "8. Define de solving command"
   ]
  },
  {
   "cell_type": "markdown",
   "metadata": {},
   "source": [
    "#### 1. Import docplex library\n",
    "First of all, we will import the docplex library, and specifically the model module. If you need to use other library, for example, for data processing or data visualization, you should import it in this step as well. For this problem, we are no using any additional library."
   ]
  },
  {
   "cell_type": "code",
   "execution_count": 2,
   "metadata": {},
   "outputs": [],
   "source": [
    "import docplex\n",
    "from docplex.mp.model import Model"
   ]
  },
  {
   "cell_type": "markdown",
   "metadata": {},
   "source": [
    "#### 2. Create a Model instance\n",
    "You need a Model instance to define all the elements needed to create the production problem"
   ]
  },
  {
   "cell_type": "code",
   "execution_count": 19,
   "metadata": {},
   "outputs": [],
   "source": [
    "model = Model(name=\"production_problem\")"
   ]
  },
  {
   "cell_type": "markdown",
   "metadata": {},
   "source": [
    "#### 3. Define sets and parameters\n",
    "**Sets:** The first you need to do is define your sets as they are going to be the indexes for your parameters and variable decisions. \n",
    "\n",
    "**Parameters:** These are the known data from your problem that allows to make decisions."
   ]
  },
  {
   "cell_type": "code",
   "execution_count": 20,
   "metadata": {},
   "outputs": [],
   "source": [
    "# Define sets\n",
    "products = {\"A\",\"B\",\"C\",\"D\"}\n",
    "\n",
    "# Define parameters\n",
    "#demand\n",
    "demand = {\"A\":50,\"B\":70,\"C\":100,\"D\":20}\n",
    "#profit\n",
    "profit = {\"A\":40,\"B\":20,\"C\":10,\"D\":70}\n",
    "#processing time\n",
    "pro_time = {\"A\":15,\"B\":15,\"C\":5,\"D\":25}\n",
    "#total capacity\n",
    "capacity = 2000"
   ]
  },
  {
   "cell_type": "markdown",
   "metadata": {},
   "source": [
    "#### 4. Define decision variables"
   ]
  },
  {
   "cell_type": "code",
   "execution_count": 21,
   "metadata": {},
   "outputs": [],
   "source": [
    "production = model.integer_var_dict(products,name=\"prod\")"
   ]
  },
  {
   "cell_type": "markdown",
   "metadata": {},
   "source": [
    "#### 5. Define constraints\n",
    "For this problem we have two constraints:\n",
    "1. The company cannot sale products over the known demand\n",
    "2. The company has limited time capacity to produce all the products."
   ]
  },
  {
   "cell_type": "code",
   "execution_count": 22,
   "metadata": {},
   "outputs": [
    {
     "data": {
      "text/plain": [
       "docplex.mp.LinearConstraint[](15prod_A+15prod_B+5prod_C+25prod_D,LE,2000)"
      ]
     },
     "execution_count": 22,
     "metadata": {},
     "output_type": "execute_result"
    }
   ],
   "source": [
    "#1. The company cannot sale products over the known demand\n",
    "for p in products:\n",
    "    model.add_constraint(production[p]<=demand[p])\n",
    "#2. The company has limited time capacity to produce all the products.\n",
    "model.add_constraint(model.sum(production[p]*pro_time[p] for p in products)<=capacity)"
   ]
  },
  {
   "cell_type": "markdown",
   "metadata": {},
   "source": [
    "#### 6. Define linear expression\n",
    "Defining linear expression is a good practice when using complex or long objective functions. Dividing an expression let you keep track of the values each expression is getting and, in some cases, find formulation problems.\n",
    "\n",
    "For this example, the objective function is simple, btu we are using linear expressions to show how to build them and use them."
   ]
  },
  {
   "cell_type": "code",
   "execution_count": 23,
   "metadata": {},
   "outputs": [],
   "source": [
    "profit_prod = model.sum(production[p]*profit[p] for p in products)"
   ]
  },
  {
   "cell_type": "markdown",
   "metadata": {},
   "source": [
    "#### 7. Define the objective function\n",
    "The objective function is an important step in your formulation as it is the one that would guide your problem solution. Results might change as the objective function is changed, so be careful when defining it. \n",
    "\n",
    "For this example, we are try to get the highest profit possible, so we choose the maximization as our objective."
   ]
  },
  {
   "cell_type": "code",
   "execution_count": 24,
   "metadata": {},
   "outputs": [],
   "source": [
    "model.maximize(profit_prod)"
   ]
  },
  {
   "cell_type": "markdown",
   "metadata": {},
   "source": [
    "#### 8. Solve your model\n",
    "By using the solve() method from the model instance, the optimiaztion motor is called"
   ]
  },
  {
   "cell_type": "code",
   "execution_count": 25,
   "metadata": {},
   "outputs": [],
   "source": [
    "solution=model.solve()"
   ]
  },
  {
   "cell_type": "markdown",
   "metadata": {},
   "source": [
    "### Post processing\n",
    "Once the optimization model is solved, you can retrieve the results to pritn them."
   ]
  },
  {
   "cell_type": "code",
   "execution_count": 27,
   "metadata": {},
   "outputs": [
    {
     "name": "stdout",
     "output_type": "stream",
     "text": [
      "The maximum profit would be: 4730\n",
      "The company needs to produce 50.0 units of product A\n",
      "The company needs to produce 17.0 units of product B\n",
      "The company needs to produce 99.0 units of product C\n",
      "The company needs to produce 20.0 units of product D\n"
     ]
    }
   ],
   "source": [
    "print('The maximum profit would be: %a' %solution.get_objective_value())\n",
    "for p in sorted(products):\n",
    "    print('The company needs to produce %a units of product %s' %(production[p].solution_value,p))"
   ]
  }
 ],
 "metadata": {
  "kernelspec": {
   "display_name": "Python 3",
   "language": "python",
   "name": "python3"
  },
  "language_info": {
   "codemirror_mode": {
    "name": "ipython",
    "version": 3
   },
   "file_extension": ".py",
   "mimetype": "text/x-python",
   "name": "python",
   "nbconvert_exporter": "python",
   "pygments_lexer": "ipython3",
   "version": "3.6.8"
  }
 },
 "nbformat": 4,
 "nbformat_minor": 2
}
